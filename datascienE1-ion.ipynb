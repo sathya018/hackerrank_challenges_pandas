{
 "cells": [
  {
   "cell_type": "code",
   "execution_count": 1,
   "metadata": {},
   "outputs": [
    {
     "data": {
      "text/plain": [
       "5.0"
      ]
     },
     "execution_count": 1,
     "metadata": {},
     "output_type": "execute_result"
    }
   ],
   "source": [
    "import pandas as pd\n",
    "#1.\n",
    "A = pd.Series([2,4,6], index=[0,1,2])\n",
    "B = pd.Series([1,3,5], index=[1,2,3])\n",
    "C = A + B\n",
    "C[1]"
   ]
  },
  {
   "cell_type": "code",
   "execution_count": 5,
   "metadata": {},
   "outputs": [
    {
     "data": {
      "text/plain": [
       "array([12, 15, 18])"
      ]
     },
     "execution_count": 5,
     "metadata": {},
     "output_type": "execute_result"
    }
   ],
   "source": [
    "import numpy as np\n",
    "a=np.arange(1,10).reshape(3,3)\n",
    "a.sum(axis=0)"
   ]
  },
  {
   "cell_type": "code",
   "execution_count": 6,
   "metadata": {},
   "outputs": [
    {
     "data": {
      "text/plain": [
       "DatetimeIndex(['2020-01-31', '2020-02-28', '2020-03-31', '2020-04-30',\n",
       "               '2020-05-29', '2020-06-30', '2020-07-31', '2020-08-31',\n",
       "               '2020-09-30', '2020-10-30', '2020-11-30'],\n",
       "              dtype='datetime64[ns]', freq='BM')"
      ]
     },
     "execution_count": 6,
     "metadata": {},
     "output_type": "execute_result"
    }
   ],
   "source": [
    "pd.date_range('2020-01-01','2020-12-01',freq='BM')\n",
    "#jan to nov"
   ]
  },
  {
   "cell_type": "code",
   "execution_count": 7,
   "metadata": {},
   "outputs": [
    {
     "data": {
      "text/plain": [
       "nan"
      ]
     },
     "execution_count": 7,
     "metadata": {},
     "output_type": "execute_result"
    }
   ],
   "source": [
    "vals=np.array([1,np.nan,3,4])\n",
    "vals.sum()"
   ]
  },
  {
   "cell_type": "code",
   "execution_count": 8,
   "metadata": {},
   "outputs": [],
   "source": [
    "choices = pd.Series([1,2,3,4,5,6])\n",
    "draws = choices.sample(n=10,replace=True)"
   ]
  },
  {
   "cell_type": "code",
   "execution_count": 11,
   "metadata": {},
   "outputs": [
    {
     "name": "stdout",
     "output_type": "stream",
     "text": [
      "3    4\n",
      "3    4\n",
      "0    1\n",
      "3    4\n",
      "2    3\n",
      "3    4\n",
      "4    5\n",
      "0    1\n",
      "4    5\n",
      "2    3\n",
      "dtype: int64\n"
     ]
    }
   ],
   "source": [
    "print(draws)"
   ]
  },
  {
   "cell_type": "code",
   "execution_count": 12,
   "metadata": {},
   "outputs": [
    {
     "data": {
      "text/plain": [
       "'Guido'"
      ]
     },
     "execution_count": 12,
     "metadata": {},
     "output_type": "execute_result"
    }
   ],
   "source": [
    "data =['paul', 'Peter','MARY','gUIDO']\n",
    "data = [s.capitalize() for s in data]\n",
    "data[3]"
   ]
  },
  {
   "cell_type": "code",
   "execution_count": 13,
   "metadata": {},
   "outputs": [],
   "source": [
    "primes = [2,3,5,7,11,13,17,19,23,29]\n",
    "squared_primes = [x*x for x in primes if x%10==3]\n"
   ]
  },
  {
   "cell_type": "code",
   "execution_count": 14,
   "metadata": {},
   "outputs": [
    {
     "name": "stdout",
     "output_type": "stream",
     "text": [
      "[9, 169, 529]\n"
     ]
    }
   ],
   "source": [
    "print(squared_primes)"
   ]
  },
  {
   "cell_type": "code",
   "execution_count": 15,
   "metadata": {},
   "outputs": [
    {
     "data": {
      "text/html": [
       "<div>\n",
       "<style scoped>\n",
       "    .dataframe tbody tr th:only-of-type {\n",
       "        vertical-align: middle;\n",
       "    }\n",
       "\n",
       "    .dataframe tbody tr th {\n",
       "        vertical-align: top;\n",
       "    }\n",
       "\n",
       "    .dataframe thead th {\n",
       "        text-align: right;\n",
       "    }\n",
       "</style>\n",
       "<table border=\"1\" class=\"dataframe\">\n",
       "  <thead>\n",
       "    <tr style=\"text-align: right;\">\n",
       "      <th></th>\n",
       "      <th>0</th>\n",
       "    </tr>\n",
       "  </thead>\n",
       "  <tbody>\n",
       "    <tr>\n",
       "      <th>0</th>\n",
       "      <td>Donald</td>\n",
       "    </tr>\n",
       "  </tbody>\n",
       "</table>\n",
       "</div>"
      ],
      "text/plain": [
       "        0\n",
       "0  Donald"
      ]
     },
     "execution_count": 15,
     "metadata": {},
     "output_type": "execute_result"
    }
   ],
   "source": [
    "leaders = pd.Series(['Donald trump', 'Narendra modi','boris jogn','vladiir putin','xi jinping'])\n",
    "name= leaders.str.extract('([A-Za-z]+)')\n",
    "name[:1]\n"
   ]
  },
  {
   "cell_type": "code",
   "execution_count": 16,
   "metadata": {},
   "outputs": [
    {
     "ename": "NameError",
     "evalue": "name 'subplot' is not defined",
     "output_type": "error",
     "traceback": [
      "\u001b[1;31m---------------------------------------------------------------------------\u001b[0m",
      "\u001b[1;31mNameError\u001b[0m                                 Traceback (most recent call last)",
      "\u001b[1;32m<ipython-input-16-463aa16cb44f>\u001b[0m in \u001b[0;36m<module>\u001b[1;34m\u001b[0m\n\u001b[0;32m      1\u001b[0m \u001b[1;32mimport\u001b[0m \u001b[0mmatplotlib\u001b[0m\u001b[1;33m.\u001b[0m\u001b[0mpyplot\u001b[0m\u001b[1;33m\u001b[0m\u001b[1;33m\u001b[0m\u001b[0m\n\u001b[1;32m----> 2\u001b[1;33m \u001b[0msubplot\u001b[0m\u001b[1;33m(\u001b[0m\u001b[1;36m2\u001b[0m\u001b[1;33m,\u001b[0m\u001b[1;36m1\u001b[0m\u001b[1;33m,\u001b[0m\u001b[1;36m1\u001b[0m\u001b[1;33m)\u001b[0m\u001b[1;33m\u001b[0m\u001b[1;33m\u001b[0m\u001b[0m\n\u001b[0m\u001b[0;32m      3\u001b[0m \u001b[0msubplot\u001b[0m\u001b[1;33m(\u001b[0m\u001b[1;36m2\u001b[0m\u001b[1;33m,\u001b[0m\u001b[1;36m1\u001b[0m\u001b[1;33m,\u001b[0m\u001b[1;36m2\u001b[0m\u001b[1;33m)\u001b[0m\u001b[1;33m\u001b[0m\u001b[1;33m\u001b[0m\u001b[0m\n",
      "\u001b[1;31mNameError\u001b[0m: name 'subplot' is not defined"
     ]
    }
   ],
   "source": [
    "import matplotlib.pyplot \n",
    "subplot(2,1,1)\n",
    "subplot(2,1,2)"
   ]
  },
  {
   "cell_type": "code",
   "execution_count": 21,
   "metadata": {},
   "outputs": [
    {
     "ename": "ImportError",
     "evalue": "cannot import name 'Imputer' from 'sklearn.preprocessing' (C:\\Users\\sathya\\anaconda3\\lib\\site-packages\\sklearn\\preprocessing\\__init__.py)",
     "output_type": "error",
     "traceback": [
      "\u001b[1;31m---------------------------------------------------------------------------\u001b[0m",
      "\u001b[1;31mImportError\u001b[0m                               Traceback (most recent call last)",
      "\u001b[1;32m<ipython-input-21-ea2002baea6b>\u001b[0m in \u001b[0;36m<module>\u001b[1;34m\u001b[0m\n\u001b[1;32m----> 1\u001b[1;33m \u001b[1;32mfrom\u001b[0m \u001b[0msklearn\u001b[0m\u001b[1;33m.\u001b[0m\u001b[0mpreprocessing\u001b[0m \u001b[1;32mimport\u001b[0m \u001b[0mImputer\u001b[0m\u001b[1;33m\u001b[0m\u001b[1;33m\u001b[0m\u001b[0m\n\u001b[0m\u001b[0;32m      2\u001b[0m \u001b[0mimp\u001b[0m \u001b[1;33m=\u001b[0m \u001b[0mImputer\u001b[0m\u001b[1;33m(\u001b[0m\u001b[0mmissing_vaues\u001b[0m\u001b[1;33m=\u001b[0m\u001b[1;36m0\u001b[0m\u001b[1;33m,\u001b[0m\u001b[0mstrategy\u001b[0m\u001b[1;33m=\u001b[0m\u001b[1;34m'mean'\u001b[0m\u001b[1;33m,\u001b[0m\u001b[0maxis\u001b[0m\u001b[1;33m=\u001b[0m\u001b[1;36m0\u001b[0m\u001b[1;33m)\u001b[0m\u001b[1;33m\u001b[0m\u001b[1;33m\u001b[0m\u001b[0m\n\u001b[0;32m      3\u001b[0m \u001b[0mimp\u001b[0m\u001b[1;33m.\u001b[0m\u001b[0mfit_transform\u001b[0m\u001b[1;33m(\u001b[0m\u001b[0mX_train\u001b[0m\u001b[1;33m)\u001b[0m\u001b[1;33m\u001b[0m\u001b[1;33m\u001b[0m\u001b[0m\n",
      "\u001b[1;31mImportError\u001b[0m: cannot import name 'Imputer' from 'sklearn.preprocessing' (C:\\Users\\sathya\\anaconda3\\lib\\site-packages\\sklearn\\preprocessing\\__init__.py)"
     ]
    }
   ],
   "source": [
    "from sklearn.preprocessing import Imputer\n",
    "imp = Imputer(missing_vaues=0,strategy='mean',axis=0)\n",
    "imp.fit_transform(X_train)"
   ]
  },
  {
   "cell_type": "code",
   "execution_count": 28,
   "metadata": {},
   "outputs": [
    {
     "name": "stdout",
     "output_type": "stream",
     "text": [
      "None\n"
     ]
    }
   ],
   "source": [
    "t= ['a','b','c','d']\n",
    "y=['x','y','z']\n",
    "w = t.extend(y)\n",
    "print(w)"
   ]
  },
  {
   "cell_type": "code",
   "execution_count": 29,
   "metadata": {},
   "outputs": [
    {
     "data": {
      "text/plain": [
       "'Thursday'"
      ]
     },
     "execution_count": 29,
     "metadata": {},
     "output_type": "execute_result"
    }
   ],
   "source": [
    "dates = pd.to_datetime(\"4th of July, 2019\")\n",
    "dates.strftime('%A')"
   ]
  },
  {
   "cell_type": "code",
   "execution_count": 1,
   "metadata": {},
   "outputs": [
    {
     "name": "stdout",
     "output_type": "stream",
     "text": [
      "DatetimeIndex(['2017-09-12 02:00:00', '2017-09-14 02:00:00',\n",
      "               '2017-09-16 02:00:00', '2017-09-18 02:00:00'],\n",
      "              dtype='datetime64[ns]', freq='2D')\n"
     ]
    }
   ],
   "source": [
    "import pandas as pd\n",
    "d = pd.date_range('11-Sep-2017', '17-Sep-2017', freq='2D')\n",
    "print(d + pd.Timedelta('1 days 2 hours') )"
   ]
  },
  {
   "cell_type": "code",
   "execution_count": 2,
   "metadata": {},
   "outputs": [
    {
     "name": "stdout",
     "output_type": "stream",
     "text": [
      "DatetimeIndex(['2017-09-11', '2017-09-13', '2017-09-15', '2017-09-17'], dtype='datetime64[ns]', freq='2D')\n"
     ]
    }
   ],
   "source": [
    "dat=pd.date_range('11-Sep-2017', '17-Sep-2017', freq='2D')\n",
    "print(dat)"
   ]
  },
  {
   "cell_type": "code",
   "execution_count": 3,
   "metadata": {},
   "outputs": [
    {
     "data": {
      "text/plain": [
       "1"
      ]
     },
     "execution_count": 3,
     "metadata": {},
     "output_type": "execute_result"
    }
   ],
   "source": [
    "\n",
    "d = pd.date_range('11-Sep-2017', '17-Sep-2017', freq='2D')\n",
    "len(d[d.isin(pd.to_datetime(['12-09-2017', '15-09-2017']))])"
   ]
  },
  {
   "cell_type": "code",
   "execution_count": 6,
   "metadata": {},
   "outputs": [
    {
     "name": "stdout",
     "output_type": "stream",
     "text": [
      "1\n"
     ]
    }
   ],
   "source": [
    "print(len(pd.period_range('11-Sep-2017', '17-Sep-2017', freq='M')))"
   ]
  },
  {
   "cell_type": "code",
   "execution_count": null,
   "metadata": {},
   "outputs": [],
   "source": [
    "#Data Aggression:- Python Pandas\n",
    "\n",
    "#Write your code here\n",
    "import pandas as pd\n",
    "import numpy as np\n",
    "heights_A = pd.Series([176.2,158.4,167.6,156.2,161.4])\n",
    "heights_A.index = ['s1','s2','s3','s4','s5']\n",
    "weights_A = pd.Series([85.1,90.2,76.8,80.4,78.9])\n",
    "weights_A.index = ['s1','s2','s3','s4','s5']\n",
    "\n",
    "df_A = pd.DataFrame()\n",
    "\n",
    "df_A['Student_height'] = heights_A\n",
    "df_A['Student_weight'] = weights_A\n",
    "\n",
    "df_A_filter1 = df_A[(df_A.Student_weight < 80.0) & (df_A.Student_height > 160.0)]\n",
    "print(df_A_filter1)\n",
    "\n",
    "#TASK - 2\n",
    "df_A_filter2 = df_A[df_A.index.isin(['s5'])]\n",
    "print(df_A_filter2)\n",
    "\n",
    "#TASK - 3\n",
    "df_A['Gender'] = ['M','F','M','M','F']\n",
    "df_groups = df_A.groupby('Gender')\n",
    "print(df_groups.mean())"
   ]
  },
  {
   "cell_type": "code",
   "execution_count": null,
   "metadata": {},
   "outputs": [],
   "source": [
    "#Indexing Dataframe Hands-On Solutions - Code:- \n",
    "import pandas as pd\n",
    "import numpy as np\n",
    "\n",
    "#TASK- 1\n",
    "DatetimeIndex = pd.date_range(start = '09/01/2017',end='09/15/2017')\n",
    "print(DatetimeIndex[2])\n",
    "\n",
    "#TASK - 2\n",
    "datelist = ['14-Sep-2017','09-Sep-2017']\n",
    "date_to_be_searched = pd.to_datetime(datelist)\n",
    "print(date_to_be_searched)\n",
    "\n",
    "#TASK - 3\n",
    "print(date_to_be_searched.isin(datelist))\n",
    "\n",
    "#TASK - 4\n",
    "arraylist = [['classA']*5 + ['classB']*5,['s1','s2','s3','s4','s5']* 2]\n",
    "mi_index = pd.MultiIndex.from_product(arraylist,names=['First Level','Second Level'])\n",
    "print(mi_index.levels)"
   ]
  },
  {
   "cell_type": "code",
   "execution_count": null,
   "metadata": {},
   "outputs": [],
   "source": [
    "#Data Merging Hands-On(1) Solutions:-\n",
    "#Write your code here\n",
    "import pandas as pd\n",
    "import numpy as np\n",
    "nameid = pd.Series(range(101,111))\n",
    "name = pd.Series(['person' + str(i) for i in range(1,11)])\n",
    "master = pd.DataFrame()\n",
    "master['nameid'] = nameid\n",
    "master['name'] = name\n",
    "transaction = pd.DataFrame({'nameid':[108,108,108,103],'product':['iPhone','Nokia','Micromax','Vivo']})\n",
    "mdf = pd.merge(master,transaction,on='nameid')\n",
    "print(mdf)\n"
   ]
  },
  {
   "cell_type": "code",
   "execution_count": null,
   "metadata": {},
   "outputs": [],
   "source": [
    "# Data Cleaning Solutions - Python Pandas \n",
    "Code:-\n",
    "#Write your code here\n",
    "import pandas as pd\n",
    "import numpy as np\n",
    "height_A = pd.Series([176.2,158.4,167.6,156.2,161.4])\n",
    "height_A.index = ['s1','s2','s3','s4','s5']\n",
    "weight_A = pd.Series([85.1,90.2,76.8,80.4,78.9])\n",
    "weight_A.index = ['s1','s2','s3','s4','s5']\n",
    "df_A = pd.DataFrame()\n",
    "df_A['Student_height'] = height_A\n",
    "df_A['Student_weight'] = weight_A\n",
    "\n",
    "df_A.loc['s3'] = np.nan\n",
    "df_A.loc['s5'][1] = np.nan\n",
    "\n",
    "df_A2 = df_A.dropna(how = 'any')\n",
    "print(df_A2)"
   ]
  },
  {
   "cell_type": "code",
   "execution_count": null,
   "metadata": {},
   "outputs": [],
   "source": [
    "#Data Merging Hands-On(2) Solution: P\n",
    "#Write your code here\n",
    "import pandas as pd\n",
    "import numpy as np\n",
    "\n",
    "height_A = pd.Series([176.2,158.4,167.6,156.2,161.4])\n",
    "height_A.index = ['s1','s2','s3','s4','s5']\n",
    "\n",
    "weights_A = pd.Series([85.1,90.2,76.8,80.4,78.9])\n",
    "weights_A.index = ['s1','s2','s3','s4','s5']\n",
    "\n",
    "df_A = pd.DataFrame()\n",
    "df_A['Student_height'] = height_A\n",
    "df_A['Student_weight'] = weights_A\n",
    "\n",
    "df_A['Gender'] = ['M','F','M','M','F']\n",
    "\n",
    "s = pd.Series([165.4,82.7,'F'],index = ['Student_height','Student_weight','Gender'],name='s6')\n",
    "\n",
    "df_AA = df_A.append(s)\n",
    "print(df_AA)\n",
    "\n",
    "#TASK - 2\n",
    "my_mean = 170.0\n",
    "my_std = 25.0\n",
    "np.random.seed(100)\n",
    "heights_B = pd.Series(np.random.normal(loc = my_mean,scale=my_std,size = 5))\n",
    "heights_B.index = ['s1','s2','s3','s4','s5']\n",
    "\n",
    "my_mean1 = 75.0\n",
    "my_std1 = 12.0\n",
    "np.random.seed(100)\n",
    "weights_B = pd.Series(np.random.normal(loc = my_mean1,scale=my_std1,size = 5))\n",
    "weights_B.index = ['s1','s2','s3','s4','s5']\n",
    "\n",
    "df_B = pd.DataFrame()\n",
    "df_B['Student_height'] = heights_B\n",
    "df_B['Student_weight'] = weights_B\n",
    "\n",
    "df_B.index=['s7','s8','s9','s10','s11']\n",
    "df_B['Gender'] = ['F','M','F','F','M']\n",
    "\n",
    "df = pd.concat([df_AA,df_B])\n",
    "print(df)"
   ]
  },
  {
   "cell_type": "code",
   "execution_count": null,
   "metadata": {},
   "outputs": [],
   "source": [
    "#Write your code here\n",
    "import pandas as pd\n",
    "import numpy as np\n",
    "heights_A = pd.Series([176.2,158.4,167.6,156.2,161.4])\n",
    "heights_A.index = ['s1','s2','s3','s4','s5']\n",
    "weights_A = pd.Series([85.1,90.2,76.8,80.4,78.9])\n",
    "weights_A.index = ['s1','s2','s3','s4','s5']\n",
    "df_A = pd.DataFrame()\n",
    "df_A['Student_height'] = heights_A\n",
    "df_A['Student_weight'] = weights_A\n",
    "df_A.to_csv('classA.csv')\n",
    "\n",
    "# TASK 2\n",
    "df_A2 = pd.read_csv('classA.csv')\n",
    "print(df_A2)\n",
    "\n",
    "#TASK 3\n",
    "df_A3 = pd.read_csv('classA.csv',index_col = 0)\n",
    "print(df_A3)\n",
    "\n",
    "#TASK 4\n",
    "my_mean = 170.0\n",
    "my_std = 25.0\n",
    "np.random.seed(100)\n",
    "heights_B = pd.Series(np.random.normal(loc = my_mean, scale = my_std, size = 5))\n",
    "heights_B.index = ['s1','s2','s3','s4','s5']\n",
    "my_mean1 = 75.0\n",
    "my_std1 = 12.0\n",
    "np.random.seed(100)\n",
    "weights_B = pd.Series(np.random.normal(loc = my_mean1,scale = my_std1,size = 5))\n",
    "weights_B.index = ['s1','s2','s3','s4','s5']\n",
    "df_B = pd.DataFrame()\n",
    "df_B['Student_height'] = heights_B\n",
    "df_B['Student_weight'] = weights_B\n",
    "\n",
    "df_B.to_csv('classB.csv',index = False)\n",
    "print('classB.csv')\n",
    "\n",
    "#TASK 5\n",
    "df_B2 = pd.read_csv('classB.csv')\n",
    "print(df_B2)\n",
    "\n",
    "#TASK 6\n",
    "df_B3 = pd.read_csv('classB.csv',header = None)\n",
    "print(df_B3)\n",
    "\n",
    "#TASK 7\n",
    "\n",
    "df_B4 = pd.read_csv('classB.csv',header = None, skiprows = 2)\n",
    "print(df_B4)"
   ]
  }
 ],
 "metadata": {
  "kernelspec": {
   "display_name": "Python 3",
   "language": "python",
   "name": "python3"
  },
  "language_info": {
   "codemirror_mode": {
    "name": "ipython",
    "version": 3
   },
   "file_extension": ".py",
   "mimetype": "text/x-python",
   "name": "python",
   "nbconvert_exporter": "python",
   "pygments_lexer": "ipython3",
   "version": "3.8.3"
  }
 },
 "nbformat": 4,
 "nbformat_minor": 4
}
